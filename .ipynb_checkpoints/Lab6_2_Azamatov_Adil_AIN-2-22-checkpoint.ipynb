{
 "cells": [
  {
   "cell_type": "code",
   "execution_count": 9,
   "id": "0804d2aa-e484-40d6-bdc1-31e67fb4e2d4",
   "metadata": {
    "scrolled": true
   },
   "outputs": [
    {
     "name": "stdout",
     "output_type": "stream",
     "text": [
      "Model Accuracy: 0.23\n",
      "\n",
      "Classification Report:\n",
      "              precision    recall  f1-score   support\n",
      "\n",
      "           0       0.27      0.57      0.36        54\n",
      "           1       0.31      0.15      0.20        27\n",
      "           2       0.05      0.04      0.05        25\n",
      "           3       0.13      0.06      0.08        36\n",
      "           4       0.21      0.10      0.14        30\n",
      "           5       0.22      0.18      0.20        28\n",
      "\n",
      "    accuracy                           0.23       200\n",
      "   macro avg       0.20      0.18      0.17       200\n",
      "weighted avg       0.21      0.23      0.19       200\n",
      "\n"
     ]
    }
   ],
   "source": [
    "import random\n",
    "import pandas as pd\n",
    "from sklearn.model_selection import train_test_split\n",
    "from sklearn.ensemble import RandomForestClassifier\n",
    "from sklearn.metrics import accuracy_score, classification_report\n",
    "\n",
    "cities = ['Tokyo', 'Seoul', 'Berlin', 'London', 'Moscow', 'New York', 'Paris']\n",
    "vacation = ['beach', 'forest', 'urban', 'mountains', 'desert']\n",
    "transport = ['bike', 'scooter', 'train', 'plane', 'car', 'boat']\n",
    "target_cities = ['Bali', 'Kyoto', 'Rome', 'Hawaii', 'Sydney', 'Barcelona', 'Dubai']\n",
    "\n",
    "data = []\n",
    "for _ in range(1000):\n",
    "    salary = random.randint(30000, 150000)\n",
    "    city = random.choice(cities)\n",
    "    age = random.randint(20, 70)\n",
    "    vacation_prefer = random.choice(vacation)\n",
    "    transport_prefer = random.choice(transport)\n",
    "    target = random.choice(target_cities)\n",
    "    data.append([salary, city, age, vacation_prefer, transport_prefer, target])\n",
    "\n",
    "columns = ['salary', 'city', 'age', 'vacation_prefer', 'transport_prefer', 'target']\n",
    "df = pd.DataFrame(data, columns=columns)\n",
    "\n",
    "df = pd.get_dummies(df, columns=['city', 'vacation_prefer', 'transport_prefer', 'target'], drop_first=True)\n",
    "\n",
    "X = df.drop(columns=[col for col in df.columns if col.startswith('target_')])\n",
    "y = df[[col for col in df.columns if col.startswith('target_')]].values.argmax(axis=1)\n",
    "\n",
    "X_train, X_test, y_train, y_test = train_test_split(X, y, test_size=0.2, random_state=42)\n",
    "\n",
    "model = RandomForestClassifier(random_state=42)\n",
    "model.fit(X_train, y_train)\n",
    "\n",
    "y_pred = model.predict(X_test)\n",
    "accuracy = accuracy_score(y_test, y_pred)\n",
    "print(f\"Model Accuracy: {accuracy:.2f}\")\n",
    "print(\"\\nClassification Report:\")\n",
    "print(classification_report(y_test, y_pred))"
   ]
  },
  {
   "cell_type": "code",
   "execution_count": 10,
   "id": "46cd05a9-7c86-4425-9e2f-fffc0587086b",
   "metadata": {},
   "outputs": [
    {
     "name": "stdout",
     "output_type": "stream",
     "text": [
      "Сетка параметров:\n",
      "{'C': [0.001, 0.01, 0.1, 1, 10, 100], 'gamma': [0.001, 0.01, 0.1, 1, 10, 100]}\n",
      "Точность на тестовой выборке: 0.27\n",
      "\n",
      "Классификационный отчет:\n",
      "              precision    recall  f1-score   support\n",
      "\n",
      "           0       0.27      1.00      0.43        54\n",
      "           1       0.00      0.00      0.00        27\n",
      "           2       0.00      0.00      0.00        25\n",
      "           3       0.00      0.00      0.00        36\n",
      "           4       0.00      0.00      0.00        30\n",
      "           5       0.00      0.00      0.00        28\n",
      "\n",
      "    accuracy                           0.27       200\n",
      "   macro avg       0.05      0.17      0.07       200\n",
      "weighted avg       0.07      0.27      0.11       200\n",
      "\n"
     ]
    },
    {
     "name": "stderr",
     "output_type": "stream",
     "text": [
      "C:\\Users\\Azama\\PycharmProjects\\Lab3_Azamatov\\.venv\\Lib\\site-packages\\sklearn\\metrics\\_classification.py:1531: UndefinedMetricWarning: Precision is ill-defined and being set to 0.0 in labels with no predicted samples. Use `zero_division` parameter to control this behavior.\n",
      "  _warn_prf(average, modifier, f\"{metric.capitalize()} is\", len(result))\n",
      "C:\\Users\\Azama\\PycharmProjects\\Lab3_Azamatov\\.venv\\Lib\\site-packages\\sklearn\\metrics\\_classification.py:1531: UndefinedMetricWarning: Precision is ill-defined and being set to 0.0 in labels with no predicted samples. Use `zero_division` parameter to control this behavior.\n",
      "  _warn_prf(average, modifier, f\"{metric.capitalize()} is\", len(result))\n",
      "C:\\Users\\Azama\\PycharmProjects\\Lab3_Azamatov\\.venv\\Lib\\site-packages\\sklearn\\metrics\\_classification.py:1531: UndefinedMetricWarning: Precision is ill-defined and being set to 0.0 in labels with no predicted samples. Use `zero_division` parameter to control this behavior.\n",
      "  _warn_prf(average, modifier, f\"{metric.capitalize()} is\", len(result))\n"
     ]
    }
   ],
   "source": [
    "from sklearn.metrics import accuracy_score, classification_report\n",
    "from sklearn.model_selection import GridSearchCV\n",
    "from sklearn.svm import SVC\n",
    "\n",
    "# Определение сетки параметров\n",
    "param_grid = {\n",
    "    'C': [0.001, 0.01, 0.1, 1, 10, 100],  \n",
    "    'gamma': [0.001, 0.01, 0.1, 1, 10, 100]\n",
    "}\n",
    "\n",
    "print(\"Сетка параметров:\")\n",
    "print(param_grid)\n",
    "\n",
    "# Настройка и обучение модели с помощью GridSearchCV\n",
    "grid_search = GridSearchCV(SVC(), param_grid, cv=5)\n",
    "grid_search.fit(X_train, y_train)\n",
    "\n",
    "# Предсказания и оценка точности\n",
    "y_pred_log = grid_search.predict(X_test)\n",
    "print(\"Точность на тестовой выборке: {:.2f}\".format(grid_search.score(X_test, y_test)))\n",
    "\n",
    "# Классификационный отчёт\n",
    "print(\"\\nКлассификационный отчет:\")\n",
    "print(classification_report(y_test, y_pred_log))"
   ]
  },
  {
   "cell_type": "code",
   "execution_count": 13,
   "id": "5f3aec61-70a9-4a11-b8c0-6a03cc93d97a",
   "metadata": {},
   "outputs": [
    {
     "name": "stdout",
     "output_type": "stream",
     "text": [
      "Точность модели логистической регрессии = 0.25\n",
      "Confusion matrix:\n",
      "[[50  0  0  0  1  3]\n",
      " [22  0  2  0  0  3]\n",
      " [22  0  0  1  0  2]\n",
      " [35  0  0  0  0  1]\n",
      " [27  0  0  2  0  1]\n",
      " [28  0  0  0  0  0]]\n"
     ]
    },
    {
     "name": "stderr",
     "output_type": "stream",
     "text": [
      "C:\\Users\\Azama\\PycharmProjects\\Lab3_Azamatov\\.venv\\Lib\\site-packages\\sklearn\\linear_model\\_logistic.py:469: ConvergenceWarning: lbfgs failed to converge (status=1):\n",
      "STOP: TOTAL NO. of f AND g EVALUATIONS EXCEEDS LIMIT.\n",
      "\n",
      "Increase the number of iterations (max_iter) or scale the data as shown in:\n",
      "    https://scikit-learn.org/stable/modules/preprocessing.html\n",
      "Please also refer to the documentation for alternative solver options:\n",
      "    https://scikit-learn.org/stable/modules/linear_model.html#logistic-regression\n",
      "  n_iter_i = _check_optimize_result(\n"
     ]
    }
   ],
   "source": [
    "from sklearn.metrics import accuracy_score\n",
    "from sklearn.linear_model import LogisticRegression\n",
    "from sklearn.metrics import confusion_matrix\n",
    "\n",
    "# Настройка и обучение модели логистической регрессии\n",
    "log_reg = LogisticRegression(max_iter=20000, random_state=42)\n",
    "log_reg.fit(X_train, y_train)\n",
    "\n",
    "# Предсказания и оценка точности\n",
    "y_pred_log = log_reg.predict(X_test)\n",
    "accuracy_log = accuracy_score(y_test, y_pred_log)\n",
    "print(f\"Точность модели логистической регрессии = {accuracy_log:.2f}\")\n",
    "\n",
    "# Матрица ошибок\n",
    "print(\"Confusion matrix:\\n{}\".format(confusion_matrix(y_test, y_pred_log)))"
   ]
  },
  {
   "cell_type": "code",
   "execution_count": 14,
   "id": "c76dc1c6-fe3a-4d0a-b329-b12e154c8172",
   "metadata": {},
   "outputs": [
    {
     "name": "stdout",
     "output_type": "stream",
     "text": [
      "Точность модели: 0.20\n",
      "\n",
      "Классификационный отчет:\n",
      "              precision    recall  f1-score   support\n",
      "\n",
      "           0       0.28      0.39      0.32        54\n",
      "           1       0.13      0.07      0.10        27\n",
      "           2       0.25      0.24      0.24        25\n",
      "           3       0.20      0.19      0.20        36\n",
      "           4       0.14      0.10      0.12        30\n",
      "           5       0.04      0.04      0.04        28\n",
      "\n",
      "    accuracy                           0.20       200\n",
      "   macro avg       0.17      0.17      0.17       200\n",
      "weighted avg       0.19      0.20      0.19       200\n",
      "\n",
      "Точность на тестовой выборке: 0.27\n"
     ]
    }
   ],
   "source": [
    "from sklearn.feature_selection import SelectFromModel\n",
    "from sklearn.ensemble import RandomForestClassifier\n",
    "\n",
    "# Инициализация и обучение модели для отбора признаков\n",
    "selector = SelectFromModel(RandomForestClassifier(n_estimators=100, random_state=42))\n",
    "selector.fit(X_train, y_train)\n",
    "\n",
    "# Применение отбора признаков к данным\n",
    "X_train_selected = selector.transform(X_train)\n",
    "X_test_selected = selector.transform(X_test)\n",
    "\n",
    "# Продолжение с обучением модели и предсказанием (например, с RandomForest)\n",
    "model = RandomForestClassifier(random_state=42)\n",
    "model.fit(X_train_selected, y_train)\n",
    "\n",
    "y_pred = model.predict(X_test_selected)\n",
    "accuracy = accuracy_score(y_test, y_pred)\n",
    "print(f\"Точность модели: {accuracy:.2f}\")\n",
    "print(\"\\nКлассификационный отчет:\")\n",
    "print(classification_report(y_test, y_pred))\n",
    "\n",
    "# Настройка и обучение модели с помощью GridSearchCV\n",
    "grid_search = GridSearchCV(SVC(), param_grid, cv=5)\n",
    "grid_search.fit(X_train_selected, y_train)\n",
    "\n",
    "# Оценка точности на тестовом наборе\n",
    "print(\"Точность на тестовой выборке: {:.2f}\".format(grid_search.score(X_test_selected, y_test)))"
   ]
  },
  {
   "cell_type": "code",
   "execution_count": 16,
   "id": "09dcc8a1-5753-4c34-b4c1-c22b317ea4b7",
   "metadata": {},
   "outputs": [
    {
     "name": "stdout",
     "output_type": "stream",
     "text": [
      "Точность модели логистической регрессии = 0.25\n"
     ]
    },
    {
     "name": "stderr",
     "output_type": "stream",
     "text": [
      "C:\\Users\\Azama\\PycharmProjects\\Lab3_Azamatov\\.venv\\Lib\\site-packages\\sklearn\\linear_model\\_logistic.py:469: ConvergenceWarning: lbfgs failed to converge (status=1):\n",
      "STOP: TOTAL NO. of f AND g EVALUATIONS EXCEEDS LIMIT.\n",
      "\n",
      "Increase the number of iterations (max_iter) or scale the data as shown in:\n",
      "    https://scikit-learn.org/stable/modules/preprocessing.html\n",
      "Please also refer to the documentation for alternative solver options:\n",
      "    https://scikit-learn.org/stable/modules/linear_model.html#logistic-regression\n",
      "  n_iter_i = _check_optimize_result(\n"
     ]
    }
   ],
   "source": [
    "from sklearn.metrics import accuracy_score\n",
    "from sklearn.linear_model import LogisticRegression\n",
    "from sklearn.metrics import confusion_matrix\n",
    "\n",
    "# Настройка и обучение модели логистической регрессии\n",
    "log_reg = LogisticRegression(max_iter=20000, random_state=42)\n",
    "log_reg.fit(X_train, y_train)\n",
    "\n",
    "# Предсказания и оценка точности\n",
    "y_pred_log = log_reg.predict(X_test)\n",
    "accuracy_log = accuracy_score(y_test, y_pred_log)\n",
    "print(f\"Точность модели логистической регрессии = {accuracy_log:.2f}\")"
   ]
  },
  {
   "cell_type": "code",
   "execution_count": 17,
   "id": "356855d9-27f3-4702-b253-b97b5c5b3901",
   "metadata": {},
   "outputs": [
    {
     "name": "stdout",
     "output_type": "stream",
     "text": [
      "Точность на тестовой выборке: 0.27\n"
     ]
    }
   ],
   "source": [
    "from sklearn.preprocessing import PolynomialFeatures\n",
    "from sklearn.model_selection import GridSearchCV\n",
    "from sklearn.svm import SVC\n",
    "\n",
    "# Создание полиномиальных признаков (только взаимодействия, степень 2)\n",
    "poly = PolynomialFeatures(degree=2, interaction_only=True)\n",
    "X_train_poly = poly.fit_transform(X_train)\n",
    "X_test_poly = poly.transform(X_test)\n",
    "\n",
    "# Настройка и обучение модели с помощью GridSearchCV\n",
    "grid_search = GridSearchCV(SVC(), param_grid, cv=5)\n",
    "grid_search.fit(X_train_poly, y_train)\n",
    "\n",
    "# Оценка точности на тестовом наборе\n",
    "print(\"Точность на тестовой выборке: {:.2f}\".format(grid_search.score(X_test_poly, y_test)))"
   ]
  },
  {
   "cell_type": "code",
   "execution_count": 18,
   "id": "95429d30-7c74-4f8d-ac22-a9a3bb6b34f7",
   "metadata": {},
   "outputs": [
    {
     "name": "stdout",
     "output_type": "stream",
     "text": [
      "Точность модели логистической регрессии = 0.25\n"
     ]
    },
    {
     "name": "stderr",
     "output_type": "stream",
     "text": [
      "C:\\Users\\Azama\\PycharmProjects\\Lab3_Azamatov\\.venv\\Lib\\site-packages\\sklearn\\linear_model\\_logistic.py:469: ConvergenceWarning: lbfgs failed to converge (status=1):\n",
      "STOP: TOTAL NO. of f AND g EVALUATIONS EXCEEDS LIMIT.\n",
      "\n",
      "Increase the number of iterations (max_iter) or scale the data as shown in:\n",
      "    https://scikit-learn.org/stable/modules/preprocessing.html\n",
      "Please also refer to the documentation for alternative solver options:\n",
      "    https://scikit-learn.org/stable/modules/linear_model.html#logistic-regression\n",
      "  n_iter_i = _check_optimize_result(\n"
     ]
    }
   ],
   "source": [
    "from sklearn.metrics import accuracy_score\n",
    "from sklearn.linear_model import LogisticRegression\n",
    "from sklearn.metrics import confusion_matrix\n",
    "\n",
    "# Настройка и обучение модели логистической регрессии\n",
    "log_reg = LogisticRegression(max_iter=20000, random_state=42)\n",
    "log_reg.fit(X_train, y_train)\n",
    "\n",
    "# Предсказания и оценка точности\n",
    "y_pred_log = log_reg.predict(X_test)\n",
    "accuracy_log = accuracy_score(y_test, y_pred_log)\n",
    "print(f\"Точность модели логистической регрессии = {accuracy_log:.2f}\")"
   ]
  },
  {
   "cell_type": "code",
   "execution_count": 19,
   "id": "a455b45f-c787-4fcb-b6f7-a09e52ea221b",
   "metadata": {},
   "outputs": [
    {
     "name": "stdout",
     "output_type": "stream",
     "text": [
      "Точность на тестовой выборке: 0.27\n"
     ]
    }
   ],
   "source": [
    "from sklearn.decomposition import PCA\n",
    "from sklearn.model_selection import GridSearchCV\n",
    "from sklearn.svm import SVC\n",
    "\n",
    "# Применение PCA для снижения размерности (10 компонент)\n",
    "pca = PCA(n_components=10)\n",
    "X_train_pca = pca.fit_transform(X_train)\n",
    "X_test_pca = pca.transform(X_test)\n",
    "\n",
    "# Настройка и обучение модели с помощью GridSearchCV\n",
    "grid_search = GridSearchCV(SVC(), param_grid, cv=5)\n",
    "grid_search.fit(X_train_pca, y_train)\n",
    "\n",
    "# Оценка точности на тестовом наборе\n",
    "print(\"Точность на тестовой выборке: {:.2f}\".format(grid_search.score(X_test_pca, y_test)))"
   ]
  },
  {
   "cell_type": "code",
   "execution_count": 20,
   "id": "3f81f4b1-0011-4799-961a-77d9f6527c8b",
   "metadata": {},
   "outputs": [
    {
     "name": "stdout",
     "output_type": "stream",
     "text": [
      "Точность модели логистической регрессии = 0.25\n"
     ]
    },
    {
     "name": "stderr",
     "output_type": "stream",
     "text": [
      "C:\\Users\\Azama\\PycharmProjects\\Lab3_Azamatov\\.venv\\Lib\\site-packages\\sklearn\\linear_model\\_logistic.py:469: ConvergenceWarning: lbfgs failed to converge (status=1):\n",
      "STOP: TOTAL NO. of f AND g EVALUATIONS EXCEEDS LIMIT.\n",
      "\n",
      "Increase the number of iterations (max_iter) or scale the data as shown in:\n",
      "    https://scikit-learn.org/stable/modules/preprocessing.html\n",
      "Please also refer to the documentation for alternative solver options:\n",
      "    https://scikit-learn.org/stable/modules/linear_model.html#logistic-regression\n",
      "  n_iter_i = _check_optimize_result(\n"
     ]
    }
   ],
   "source": [
    "from sklearn.metrics import accuracy_score\n",
    "from sklearn.linear_model import LogisticRegression\n",
    "from sklearn.metrics import confusion_matrix\n",
    "\n",
    "# Настройка и обучение модели логистической регрессии\n",
    "log_reg = LogisticRegression(max_iter=20000, random_state=42)\n",
    "log_reg.fit(X_train, y_train)\n",
    "\n",
    "# Предсказания и оценка точности\n",
    "y_pred_log = log_reg.predict(X_test)\n",
    "accuracy_log = accuracy_score(y_test, y_pred_log)\n",
    "print(f\"Точность модели логистической регрессии = {accuracy_log:.2f}\")"
   ]
  },
  {
   "cell_type": "code",
   "execution_count": 21,
   "id": "a811da90-2e2e-4a4f-b0d6-686d60816c5b",
   "metadata": {},
   "outputs": [
    {
     "name": "stdout",
     "output_type": "stream",
     "text": [
      "Точность на тестовой выборке: 0.27\n"
     ]
    }
   ],
   "source": [
    "from sklearn.preprocessing import StandardScaler\n",
    "from sklearn.model_selection import GridSearchCV\n",
    "from sklearn.svm import SVC\n",
    "\n",
    "# Стандартизация данных (приведение к нулевому среднему и единичному стандартному отклонению)\n",
    "scaler = StandardScaler()\n",
    "X_train_scaled = scaler.fit_transform(X_train)\n",
    "X_test_scaled = scaler.transform(X_test)\n",
    "\n",
    "# Настройка и обучение модели с помощью GridSearchCV\n",
    "grid_search = GridSearchCV(SVC(), param_grid, cv=5)\n",
    "grid_search.fit(X_train_scaled, y_train)\n",
    "\n",
    "# Оценка точности на тестовом наборе\n",
    "print(\"Точность на тестовой выборке: {:.2f}\".format(grid_search.score(X_test_scaled, y_test)))"
   ]
  },
  {
   "cell_type": "code",
   "execution_count": 24,
   "id": "21b85623-da04-4d05-9a9c-a4a42d688c8e",
   "metadata": {},
   "outputs": [
    {
     "name": "stdout",
     "output_type": "stream",
     "text": [
      "Точность на обучающих данных: 0.96\n",
      "Точность на тестовых данных: 0.17\n",
      "\n",
      "Confusion Matrix:\n",
      "[[16  7  9  8  5  9]\n",
      " [ 6  5  6  5  2  3]\n",
      " [ 8  5  2  3  3  4]\n",
      " [15  3  3  4  1 10]\n",
      " [12  2  5  3  2  6]\n",
      " [10  2  6  3  1  6]]\n",
      "\n",
      "Classification Report:\n",
      "              precision    recall  f1-score   support\n",
      "\n",
      "           0       0.24      0.30      0.26        54\n",
      "           1       0.21      0.19      0.20        27\n",
      "           2       0.06      0.08      0.07        25\n",
      "           3       0.15      0.11      0.13        36\n",
      "           4       0.14      0.07      0.09        30\n",
      "           5       0.16      0.21      0.18        28\n",
      "\n",
      "    accuracy                           0.17       200\n",
      "   macro avg       0.16      0.16      0.16       200\n",
      "weighted avg       0.17      0.17      0.17       200\n",
      "\n"
     ]
    }
   ],
   "source": [
    "from sklearn.metrics import accuracy_score, classification_report, confusion_matrix\n",
    "from sklearn.preprocessing import StandardScaler\n",
    "from imblearn.over_sampling import RandomOverSampler\n",
    "from imblearn.pipeline import Pipeline\n",
    "from xgboost import XGBClassifier\n",
    "\n",
    "# Создание пайплайна с RandomOverSampler\n",
    "pipeline = Pipeline([\n",
    "    ('scaler', StandardScaler()),  # Стандартизация данных\n",
    "    ('ros', RandomOverSampler(random_state=42)),  # Балансировка классов с использованием RandomOverSampler\n",
    "    ('xgb', XGBClassifier(\n",
    "        random_state=42, \n",
    "        eval_metric='mlogloss', \n",
    "        n_estimators=200, \n",
    "        max_depth=5, \n",
    "        learning_rate=0.1\n",
    "    ))  # Классификатор XGBoost\n",
    "])\n",
    "\n",
    "# Обучение модели\n",
    "pipeline.fit(X_train, y_train)\n",
    "\n",
    "# Предсказания на обучающих и тестовых данных\n",
    "y_train_pred = pipeline.predict(X_train)\n",
    "y_test_pred = pipeline.predict(X_test)\n",
    "\n",
    "# Оценка точности на обучающих данных\n",
    "train_accuracy = accuracy_score(y_train, y_train_pred)\n",
    "print(f\"Точность на обучающих данных: {train_accuracy:.2f}\")\n",
    "\n",
    "# Оценка точности на тестовых данных\n",
    "test_accuracy = accuracy_score(y_test, y_test_pred)\n",
    "print(f\"Точность на тестовых данных: {test_accuracy:.2f}\")\n",
    "\n",
    "# Вывод матрицы ошибок и классификационного отчета\n",
    "print(\"\\nConfusion Matrix:\")\n",
    "print(confusion_matrix(y_test, y_test_pred))\n",
    "print(\"\\nClassification Report:\")\n",
    "print(classification_report(y_test, y_test_pred))"
   ]
  },
  {
   "cell_type": "markdown",
   "id": "7ff847b2-741f-4b55-8f51-8e075fbc7c45",
   "metadata": {},
   "source": [
    "Как показали эксперименты с различными методами машинного обучения, такими как логистическая регрессия, случайный лес и решетчатый поиск, точность модели остаётся на одном и том же уровне, несмотря на изменение гиперпараметров и методов балансировки данных. Это можно объяснить тем, что для данного набора данных, созданного случайным образом, признаки не имеют реальной связи с целевой переменной, то есть местом отдыха. В реальной задаче, например, более высокая зарплата может указывать на более дорогое место отдыха, и такие закономерности позволили бы моделям извлекать полезную информацию и делать точные предсказания на новых данных. Однако в текущем случае отсутствуют какие-либо смысловые зависимости между признаками и целевой переменной, что объясняет низкую точность модели. Следовательно, улучшение точности в данном контексте невозможно без изменения данных, чтобы они отражали реальные закономерности и связи."
   ]
  }
 ],
 "metadata": {
  "kernelspec": {
   "display_name": "Python 3 (ipykernel)",
   "language": "python",
   "name": "python3"
  },
  "language_info": {
   "codemirror_mode": {
    "name": "ipython",
    "version": 3
   },
   "file_extension": ".py",
   "mimetype": "text/x-python",
   "name": "python",
   "nbconvert_exporter": "python",
   "pygments_lexer": "ipython3",
   "version": "3.12.6"
  }
 },
 "nbformat": 4,
 "nbformat_minor": 5
}
