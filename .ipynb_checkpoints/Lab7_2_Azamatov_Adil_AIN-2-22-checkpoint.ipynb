{
 "cells": [
  {
   "cell_type": "code",
   "execution_count": 1,
   "id": "2db51f75-7e0b-4b2d-87d4-167b179087c4",
   "metadata": {},
   "outputs": [],
   "source": [
    "import csv\n",
    "\n",
    "reviews = [\n",
    "    {\"category\": \"Вкусная столовка\", \"review\": \"Эта столовка потрясающая! Еда всегда свежая, вкусная и сытная. Особенно нравятся их супы — наваристые и ароматные. Приветливый персонал и уютная атмосфера делают это место идеальным для обеда. Всем рекомендую!\"},\n",
    "    {\"category\": \"Вкусная столовка\", \"review\": \"Это одна из лучших столовых, в которых я когда-либо был. Вкуснейшие блюда, порции большие, а цены — вполне адекватные. Мое любимое блюдо — запечённая курица с картофелем, просто супер!\"},\n",
    "    {\"category\": \"Вкусная столовка\", \"review\": \"Каждый раз прихожу сюда, и не разочаровываюсь. Всё всегда на высоте: от свежих салатов до горячих блюд. Очень вкусные пельмени и борщ — как у бабушки. Отличное место для обеда или ужина.\"},\n",
    "    {\"category\": \"Вкусная столовка\", \"review\": \"Здесь готовят просто великолепно. Все блюда всегда вкусные, сытные и разнообразные. Особенно вкусные десерты — как в лучших кафе! Стоит только один раз попробовать, и вы станете постоянным клиентом.\"},\n",
    "    {\"category\": \"Вкусная столовка\", \"review\": \"Очень нравится эта столовка. Сюда всегда приятно приходить, а еда не разочарует. Идеальные гарниры, вкусные мясные блюда и отличные супы. Отличный выбор для сытного и вкусного обеда.\"},\n",
    "    {\"category\": \"Вкусная столовка\", \"review\": \"Эта столовка стала моим постоянным местом для обеда. Я всегда выбираю блюда с мясом — курица, говядина и свинина здесь всегда вкусные. Порции большие, а выбор блюд разнообразный. Это место не может не понравиться.\"},\n",
    "    {\"category\": \"Вкусная столовка\", \"review\": \"Очень уютная столовая с домашней атмосферой. Я люблю их завтраки — каши, омлеты и свежие булочки. Прекрасное место для начала дня. Если хотите сытно и вкусно поесть, то это место для вас.\"},\n",
    "    {\"category\": \"Вкусная столовка\", \"review\": \"Не разочаровывает всегда. Порции большие, еда очень вкусная и качественная. Очень советую попробовать их салаты и супы — вкусно и полезно. Отличное место для обеда с коллегами или друзьями.\"},\n",
    "    {\"category\": \"Вкусная столовка\", \"review\": \"Прекрасное место для обеда. Здесь вкусно готовят, а меню меняется каждый день. Обожаю их мясные блюда, но и вегетарианские блюда тоже на высоте. Здесь всегда чисто и уютно.\"},\n",
    "    {\"category\": \"Вкусная столовка\", \"review\": \"Очень вкусная еда, отличное обслуживание и комфортная атмосфера. Я особенно люблю их борщ и вареники с картошкой. Здесь приятно провести обеденный перерыв.\"},\n",
    "    {\"category\": \"Невкусная столовка\", \"review\": \"Не впечатлило. Ожидал больше, а получил обычную еду, которая не вызывает никакого восторга. Даже суп не был таким, как я привык. Персонал вежливый, но еда оставляет желать лучшего.\"},\n",
    "    {\"category\": \"Невкусная столовка\", \"review\": \"Очень разочарован. Блюда пресные и безвкусные, порции маленькие, а цены завышены. Попробовал несколько разных блюд, но все они не оправдали ожиданий. Даже простой салат не был свежим.\"},\n",
    "    {\"category\": \"Невкусная столовка\", \"review\": \"От этой столовой я ожидал большего. Все блюда были плоскими и безвкусными, а качество продуктов оставляло желать лучшего. Даже на обычную кашу не хватило соли, и это расстроило.\"},\n",
    "    {\"category\": \"Невкусная столовка\", \"review\": \"Очень слабое место. Даже банальные гарниры такие пресные и неаппетитные, что есть не хочется. Мне не понравился даже хлеб — жесткий и неприятный на вкус. Ушёл с полным разочарованием.\"},\n",
    "    {\"category\": \"Невкусная столовка\", \"review\": \"Не рекомендую. Слишком много блюд, которые не имеют ни вкуса, ни аромата. Это место не для любителей вкусной еды. Плюс, обслуживание оставляет желать лучшего.\"},\n",
    "    {\"category\": \"Невкусная столовка\", \"review\": \"Эта столовая — просто ужас. Еда напоминает корм для животных. Я взял пару горячих блюд, но они оказались либо пережаренными, либо не до конца приготовленными. В общем, это было пустая трата времени и денег.\"},\n",
    "    {\"category\": \"Невкусная столовка\", \"review\": \"Здесь очень плохая еда. Даже блюда, которые я обычно люблю, не смогли удивить. Все очень пресно, безвкусно, и порции маленькие. Не думаю, что вернусь сюда снова.\"},\n",
    "    {\"category\": \"Невкусная столовка\", \"review\": \"Разочарован, еда не стоит своих денег. Думал, что хотя бы простые блюда будут нормальными, но не тут-то было. Всё оказалось слишком неаппетитным, чтобы нормально поесть.\"},\n",
    "    {\"category\": \"Невкусная столовка\", \"review\": \"Это место не для ценителей вкусной еды. Всё приготовлено быстро и неаккуратно, что влияет на общий вкус. Я не чувствовал никакого удовольствия от еды. Вряд ли вернусь сюда.\"},\n",
    "    {\"category\": \"Невкусная столовка\", \"review\": \"Мне не понравилось абсолютно ничего. Отрицательные ощущения остались от всей еды — она не имела ни аромата, ни вкуса. Я даже не допил свой напиток, потому что он был невыносимо сладким.\"},\n",
    "    {\"category\": \"Невкусная столовка\", \"review\": \"Одно из самых неприятных мест, где я ел. Блюда были не вкусными, порции маленькие, а обслуживание не слишком дружелюбное. Даже десерт оказался разочаровывающим.\"},\n",
    "    {\"category\": \"Невкусная столовка\", \"review\": \"Это был худший опыт обеда в столовой. Блюда настолько простые и пресные, что я просто не смог их доесть. Дорогие цены за низкое качество.\"}\n",
    "]\n",
    "\n",
    "with open(\"reviews.csv\", mode=\"w\", encoding=\"utf-8\", newline=\"\") as file:\n",
    "    writer = csv.DictWriter(file, fieldnames=[\"category\", \"review\"])\n",
    "    writer.writeheader()\n",
    "    writer.writerows(reviews)\n",
    "reviews = []\n",
    "with open(\"reviews.csv\", mode=\"r\", encoding=\"utf-8\") as file:\n",
    "    reader = csv.DictReader(file)\n",
    "    for row in reader:\n",
    "        reviews.append(row)\n",
    "    "
   ]
  },
  {
   "cell_type": "code",
   "execution_count": 2,
   "id": "97d4d5f6-6ee2-4724-84ac-60e845251af5",
   "metadata": {},
   "outputs": [
    {
     "name": "stdout",
     "output_type": "stream",
     "text": [
      "Категория: Вкусная столовка\n",
      "Отзыв: Эта столовка потрясающая! Еда всегда свежая, вкусная и сытная. Особенно нравятся их супы — наваристые и ароматные. Приветливый персонал и уютная атмосфера делают это место идеальным для обеда. Всем рекомендую!\n",
      "\n",
      "Категория: Вкусная столовка\n",
      "Отзыв: Это одна из лучших столовых, в которых я когда-либо был. Вкуснейшие блюда, порции большие, а цены — вполне адекватные. Мое любимое блюдо — запечённая курица с картофелем, просто супер!\n",
      "\n",
      "Категория: Вкусная столовка\n",
      "Отзыв: Каждый раз прихожу сюда, и не разочаровываюсь. Всё всегда на высоте: от свежих салатов до горячих блюд. Очень вкусные пельмени и борщ — как у бабушки. Отличное место для обеда или ужина.\n",
      "\n",
      "Категория: Вкусная столовка\n",
      "Отзыв: Здесь готовят просто великолепно. Все блюда всегда вкусные, сытные и разнообразные. Особенно вкусные десерты — как в лучших кафе! Стоит только один раз попробовать, и вы станете постоянным клиентом.\n",
      "\n",
      "Категория: Вкусная столовка\n",
      "Отзыв: Очень нравится эта столовка. Сюда всегда приятно приходить, а еда не разочарует. Идеальные гарниры, вкусные мясные блюда и отличные супы. Отличный выбор для сытного и вкусного обеда.\n",
      "\n"
     ]
    }
   ],
   "source": [
    "for review in reviews[:5]:  \n",
    "    print(f\"Категория: {review['category']}\")\n",
    "    print(f\"Отзыв: {review['review']}\\n\")"
   ]
  },
  {
   "cell_type": "code",
   "execution_count": 3,
   "id": "ae78ce03-aece-41a6-8676-ff8f8405944d",
   "metadata": {},
   "outputs": [],
   "source": [
    "import csv\n",
    "from sklearn.model_selection import train_test_split\n",
    "reviews = []\n",
    "with open(\"reviews.csv\", mode=\"r\", encoding=\"utf-8\") as file:\n",
    "    reader = csv.DictReader(file)\n",
    "    for row in reader:\n",
    "        reviews.append(row)\n",
    "texts = [review[\"review\"] for review in reviews]\n",
    "categories = [review[\"category\"] for review in reviews]\n",
    "texts_train, texts_test, categories_train, categories_test = train_test_split(\n",
    "    texts, categories, test_size=0.2, random_state=42\n",
    ")\n",
    "additional_test_reviews = [\n",
    "    {\"category\": \"Столовка с домашней атмосферой\", \"review\": \"Эта столовка имеет невероятно уютную атмосферу, как у бабушки дома. Приятная обстановка, доброжелательные официанты и вкусные домашние блюда. Особенно радуют их пельмени и домашний компот.\"},\n",
    "    {\"category\": \"Столовка с домашней атмосферой\", \"review\": \"Идеальное место для тех, кто хочет поесть как дома. Тёплый интерьер и внимание к каждому посетителю. Вкусные каши и мясные блюда, особенно запечённые ребрышки — просто объедение!\"},\n",
    "    {\"category\": \"Столовка с домашней атмосферой\", \"review\": \"Очень понравилась эта столовая. Еда простая, но очень вкусная, и каждый раз чувствуется забота о посетителях. Чувствуется, что здесь всё приготовлено с любовью.\"},\n",
    "    {\"category\": \"Столовка с домашней атмосферой\", \"review\": \"В этой столовой всё как в доме: уютно и по-домашнему вкусно. Даже простой борщ или котлеты, приготовленные здесь, кажутся гораздо вкуснее, чем в других местах.\"},\n",
    "    {\"category\": \"Столовка с домашней атмосферой\", \"review\": \"Очень приятное место, где подают вкусные и сытные блюда. Особенно выделяются их пироги — вкусно и сытно. Атмосфера как дома, идеальный выбор для обеда с друзьями.\"},\n",
    "\n",
    "    {\"category\": \"Столовка с разнообразным меню\", \"review\": \"Меню в этой столовой просто потрясающее! Каждый день новые блюда, и все они разные. Здесь можно попробовать как традиционные блюда, так и что-то необычное. Впечатлили их кулинарные эксперименты.\"},\n",
    "    {\"category\": \"Столовка с разнообразным меню\", \"review\": \"В этом месте всегда есть выбор для каждого. Независимо от того, любите ли вы мясо, вегетарианские блюда или что-то экзотическое, здесь найдется что-то на ваш вкус. Очень вкусно и разнообразно.\"},\n",
    "    {\"category\": \"Столовка с разнообразным меню\", \"review\": \"Меню здесь всегда разнообразное, и каждый раз я нахожу для себя что-то новое. Очень понравились их блюда с морепродуктами и вегетарианские котлеты. Тут действительно есть из чего выбрать.\"},\n",
    "    {\"category\": \"Столовка с разнообразным меню\", \"review\": \"Я люблю это место за разнообразие блюд. Здесь каждый день что-то новое и интересное. Особенно рекомендую их сытные обеды с мясом — очень вкусно и сытно.\"},\n",
    "    {\"category\": \"Столовка с разнообразным меню\", \"review\": \"Это идеальное место для тех, кто хочет попробовать что-то новенькое. Меню меняется каждый день, а еда всегда вкусная и свежая. Здесь всегда найдется что-то, что понравится.\"}\n",
    "]\n",
    "\n",
    "texts_test.extend([review[\"review\"] for review in additional_test_reviews])\n",
    "categories_test.extend([review[\"category\"] for review in additional_test_reviews])"
   ]
  },
  {
   "cell_type": "code",
   "execution_count": 4,
   "id": "47af7f13-6e9c-477c-a40e-66a382d49303",
   "metadata": {},
   "outputs": [
    {
     "name": "stdout",
     "output_type": "stream",
     "text": [
      "X_train:\n",
      "<Compressed Sparse Row sparse matrix of dtype 'int64'\n",
      "\twith 400 stored elements and shape (17, 248)>\n"
     ]
    }
   ],
   "source": [
    "from sklearn.feature_extraction.text import CountVectorizer\n",
    "vect = CountVectorizer().fit(texts_train)\n",
    "X_train = vect.transform(texts_train)\n",
    "print(\"X_train:\\n{}\".format(repr(X_train)))"
   ]
  },
  {
   "cell_type": "code",
   "execution_count": 5,
   "id": "3c9a849f-b21d-4a6e-a60f-5a020a7dbab9",
   "metadata": {},
   "outputs": [
    {
     "name": "stdout",
     "output_type": "stream",
     "text": [
      "Количество признаков: 248\n",
      "Первые 20 признаков:\n",
      "['абсолютно' 'аромата' 'атмосфера' 'атмосферой' 'бабушки' 'безвкусно'\n",
      " 'безвкусные' 'безвкусными' 'блюд' 'блюда' 'больше' 'большего' 'большие'\n",
      " 'борщ' 'будут' 'булочки' 'бы' 'был' 'были' 'было']\n"
     ]
    }
   ],
   "source": [
    "feature_names = vect.get_feature_names_out()\n",
    "print(\"Количество признаков: {}\".format(len(feature_names)))\n",
    "print(\"Первые 20 признаков:\\n{}\".format(feature_names[:20]))"
   ]
  },
  {
   "cell_type": "code",
   "execution_count": 7,
   "id": "4f1348b6-08e9-4f73-a50b-5e2a8404e912",
   "metadata": {},
   "outputs": [],
   "source": [
    "stop_words = [\n",
    "    \"Просто\", \"на самом деле\", \"типа\", \"вроде\", \"и так далее\",\n",
    "    \"так сказать\", \"в общем\", \"ну\", \"как бы\", \"может быть\",\n",
    "    \"лишь\", \"всё-таки\", \"по сути\", \"иногда\", \"вообще\",\n",
    "    \"безусловно\", \"отчасти\", \"не особо\", \"довольно\", \"во многом\"\n",
    "]"
   ]
  },
  {
   "cell_type": "code",
   "execution_count": 9,
   "id": "15627603-c035-4995-b64e-3586008f1993",
   "metadata": {},
   "outputs": [
    {
     "name": "stdout",
     "output_type": "stream",
     "text": [
      "Средняя правильность перекрестной проверки: 1.00\n"
     ]
    }
   ],
   "source": [
    "from sklearn.model_selection import cross_val_score\n",
    "from sklearn.linear_model import LogisticRegression\n",
    "import numpy as np\n",
    "scores = cross_val_score(LogisticRegression(), X_train, categories_train, cv=5)\n",
    "print('Средняя правильность перекрестной проверки: {:.2f}'.format(np.mean(scores)))"
   ]
  },
  {
   "cell_type": "code",
   "execution_count": 10,
   "id": "27281f42-20a2-419b-86ea-4fcde290fd4e",
   "metadata": {},
   "outputs": [
    {
     "name": "stdout",
     "output_type": "stream",
     "text": [
      "Наилучшее значение перекрестной проверки: 1.00\n",
      "Наилучшие параметры: {'C': 1}\n"
     ]
    }
   ],
   "source": [
    "from sklearn.model_selection import GridSearchCV\n",
    "from sklearn.linear_model import LogisticRegression\n",
    "param_grid = {'C': [0.001, 0.01, 0.1, 1, 10]}\n",
    "grid = GridSearchCV(LogisticRegression(max_iter=100), param_grid, cv=5)\n",
    "grid.fit(X_train, categories_train)\n",
    "\n",
    "print(\"Наилучшее значение перекрестной проверки: {:.2f}\".format(grid.best_score_))\n",
    "print(\"Наилучшие параметры:\", grid.best_params_)"
   ]
  },
  {
   "cell_type": "code",
   "execution_count": 11,
   "id": "77aacce9-bbfa-4b46-9227-3752ffea8d6f",
   "metadata": {},
   "outputs": [
    {
     "name": "stdout",
     "output_type": "stream",
     "text": [
      "Правильность на тестовом наборе: 0.27\n",
      "                                precision    recall  f1-score   support\n",
      "\n",
      "              Вкусная столовка       0.18      0.67      0.29         3\n",
      "            Невкусная столовка       0.50      1.00      0.67         2\n",
      "Столовка с домашней атмосферой       0.00      0.00      0.00         5\n",
      " Столовка с разнообразным меню       0.00      0.00      0.00         5\n",
      "\n",
      "                      accuracy                           0.27        15\n",
      "                     macro avg       0.17      0.42      0.24        15\n",
      "                  weighted avg       0.10      0.27      0.15        15\n",
      "\n"
     ]
    },
    {
     "name": "stderr",
     "output_type": "stream",
     "text": [
      "C:\\Users\\Azama\\PycharmProjects\\Lab3_Azamatov\\.venv\\Lib\\site-packages\\sklearn\\metrics\\_classification.py:1531: UndefinedMetricWarning: Precision is ill-defined and being set to 0.0 in labels with no predicted samples. Use `zero_division` parameter to control this behavior.\n",
      "  _warn_prf(average, modifier, f\"{metric.capitalize()} is\", len(result))\n",
      "C:\\Users\\Azama\\PycharmProjects\\Lab3_Azamatov\\.venv\\Lib\\site-packages\\sklearn\\metrics\\_classification.py:1531: UndefinedMetricWarning: Precision is ill-defined and being set to 0.0 in labels with no predicted samples. Use `zero_division` parameter to control this behavior.\n",
      "  _warn_prf(average, modifier, f\"{metric.capitalize()} is\", len(result))\n",
      "C:\\Users\\Azama\\PycharmProjects\\Lab3_Azamatov\\.venv\\Lib\\site-packages\\sklearn\\metrics\\_classification.py:1531: UndefinedMetricWarning: Precision is ill-defined and being set to 0.0 in labels with no predicted samples. Use `zero_division` parameter to control this behavior.\n",
      "  _warn_prf(average, modifier, f\"{metric.capitalize()} is\", len(result))\n"
     ]
    }
   ],
   "source": [
    "X_test = vect.transform(texts_test)\n",
    "from sklearn.metrics import classification_report, confusion_matrix\n",
    "print(\"Правильность на тестовом наборе: {:.2f}\".format(grid.score(X_test, categories_test)))\n",
    "y_pred = grid.predict(X_test)\n",
    "\n",
    "print(classification_report(categories_test, y_pred))"
   ]
  },
  {
   "cell_type": "code",
   "execution_count": 14,
   "id": "9cd94011-9382-4f01-a25b-d140d125089f",
   "metadata": {},
   "outputs": [
    {
     "name": "stdout",
     "output_type": "stream",
     "text": [
      "Наилучшее значение перекрестной проверки: 0.95\n",
      "Точность на тестовом наборе: 0.27\n",
      "                                precision    recall  f1-score   support\n",
      "\n",
      "              Вкусная столовка       0.22      0.67      0.33         3\n",
      "            Невкусная столовка       0.33      1.00      0.50         2\n",
      "Столовка с домашней атмосферой       0.00      0.00      0.00         5\n",
      " Столовка с разнообразным меню       0.00      0.00      0.00         5\n",
      "\n",
      "                      accuracy                           0.27        15\n",
      "                     macro avg       0.14      0.42      0.21        15\n",
      "                  weighted avg       0.09      0.27      0.13        15\n",
      "\n"
     ]
    },
    {
     "name": "stderr",
     "output_type": "stream",
     "text": [
      "C:\\Users\\Azama\\PycharmProjects\\Lab3_Azamatov\\.venv\\Lib\\site-packages\\sklearn\\metrics\\_classification.py:1531: UndefinedMetricWarning: Precision is ill-defined and being set to 0.0 in labels with no predicted samples. Use `zero_division` parameter to control this behavior.\n",
      "  _warn_prf(average, modifier, f\"{metric.capitalize()} is\", len(result))\n",
      "C:\\Users\\Azama\\PycharmProjects\\Lab3_Azamatov\\.venv\\Lib\\site-packages\\sklearn\\metrics\\_classification.py:1531: UndefinedMetricWarning: Precision is ill-defined and being set to 0.0 in labels with no predicted samples. Use `zero_division` parameter to control this behavior.\n",
      "  _warn_prf(average, modifier, f\"{metric.capitalize()} is\", len(result))\n",
      "C:\\Users\\Azama\\PycharmProjects\\Lab3_Azamatov\\.venv\\Lib\\site-packages\\sklearn\\metrics\\_classification.py:1531: UndefinedMetricWarning: Precision is ill-defined and being set to 0.0 in labels with no predicted samples. Use `zero_division` parameter to control this behavior.\n",
      "  _warn_prf(average, modifier, f\"{metric.capitalize()} is\", len(result))\n"
     ]
    }
   ],
   "source": [
    "from sklearn.feature_extraction.text import TfidfVectorizer\n",
    "from sklearn.pipeline import make_pipeline\n",
    "from sklearn.linear_model import LogisticRegression\n",
    "from sklearn.model_selection import GridSearchCV\n",
    "\n",
    "pipe = make_pipeline(TfidfVectorizer(min_df=5, norm=None), LogisticRegression(max_iter=100))\n",
    "param_grid = {'logisticregression__C': [0.001, 0.01, 0.1, 1, 10]}\n",
    "grid = GridSearchCV(pipe, param_grid, cv=5)\n",
    "grid.fit(texts_train, categories_train)\n",
    "print(\"Наилучшее значение перекрестной проверки: {:.2f}\".format(grid.best_score_))\n",
    "test_score = grid.best_estimator_.score(texts_test, categories_test)\n",
    "print(\"Точность на тестовом наборе: {:.2f}\".format(test_score))\n",
    "\n",
    "y_pred = grid.predict(texts_test)\n",
    "\n",
    "print(classification_report(categories_test, y_pred))"
   ]
  },
  {
   "cell_type": "code",
   "execution_count": 15,
   "id": "6242eea1-482c-4c22-a097-439ee0d5cf73",
   "metadata": {},
   "outputs": [
    {
     "name": "stdout",
     "output_type": "stream",
     "text": [
      "Best cross-validation score: 1.00\n",
      "Best parameters:\n",
      "{'logisticregression__C': 10, 'tfidfvectorizer__ngram_range': (1, 1)}\n"
     ]
    }
   ],
   "source": [
    "from sklearn.feature_extraction.text import TfidfVectorizer\n",
    "from sklearn.pipeline import make_pipeline\n",
    "from sklearn.linear_model import LogisticRegression\n",
    "from sklearn.model_selection import GridSearchCV\n",
    "\n",
    "pipe = make_pipeline(TfidfVectorizer(min_df=1), LogisticRegression())\n",
    "param_grid = {'logisticregression__C': [0.001, 0.01, 0.1, 1, 10, 100],\n",
    "              'tfidfvectorizer__ngram_range': [(1, 1), (1, 2), (1, 3)]}\n",
    "grid = GridSearchCV(pipe, param_grid, cv=5)\n",
    "grid.fit(texts_train, categories_train)\n",
    "print(\"Best cross-validation score: {:.2f}\".format(grid.best_score_))\n",
    "print(\"Best parameters:\\n{}\".format(grid.best_params_))"
   ]
  }
 ],
 "metadata": {
  "kernelspec": {
   "display_name": "Python 3 (ipykernel)",
   "language": "python",
   "name": "python3"
  },
  "language_info": {
   "codemirror_mode": {
    "name": "ipython",
    "version": 3
   },
   "file_extension": ".py",
   "mimetype": "text/x-python",
   "name": "python",
   "nbconvert_exporter": "python",
   "pygments_lexer": "ipython3",
   "version": "3.12.6"
  }
 },
 "nbformat": 4,
 "nbformat_minor": 5
}
